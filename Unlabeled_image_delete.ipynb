{
 "cells": [
  {
   "cell_type": "code",
   "execution_count": 4,
   "id": "5f146a5f",
   "metadata": {},
   "outputs": [],
   "source": [
    "  \n",
    "import os\n",
    "\n",
    "# Etiketlenmiş txt dosyalarını sakladığınız dizin\n",
    "labeled_txt_dir = 'C:\\\\Users\\\\pc\\\\Desktop\\\\sualtı\\\\2023_portatif_havuz_deneme\\\\label'\n",
    "\n",
    "# Etiketlenmemiş jpeg görüntüleri sakladığınız dizin\n",
    "unlabeled_jpg_dir = 'C:\\\\Users\\\\pc\\\\Desktop\\\\sualtı\\\\2023_portatif_havuz_deneme\\\\image'\n",
    "\n",
    "# Etiketlenmiş txt dosyalarının adlarını saklayacağımız liste\n",
    "labeled_txt_names = [os.path.splitext(os.path.basename(txt))[0] for txt in os.listdir(labeled_txt_dir)]\n",
    "\n",
    "# Etiketlenmemiş jpeg görüntülerinin adlarını saklayacağımız liste\n",
    "unlabeled_jpg_names = [os.path.splitext(os.path.basename(jpg))[0] for jpg in os.listdir(unlabeled_jpg_dir)]\n",
    "\n",
    "# Etiketlenmiş ve etiketlenmemiş dosyalar arasındaki farkı hesapla\n",
    "difference = set(unlabeled_jpg_names) - set(labeled_txt_names)\n",
    "\n",
    "# Fark olan görüntüleri sil\n",
    "for jpg_name in difference:\n",
    "    # Görüntü dosyasının tam yolunu alın\n",
    "    jpg_path = os.path.join(unlabeled_jpg_dir, jpg_name + '.jpg')\n",
    "    # Görüntü dosyasını silin\n",
    "    os.remove(jpg_path)\n",
    "    \n"
   ]
  },
  {
   "cell_type": "code",
   "execution_count": null,
   "id": "5eea346a",
   "metadata": {},
   "outputs": [],
   "source": []
  }
 ],
 "metadata": {
  "kernelspec": {
   "display_name": "Python 3",
   "language": "python",
   "name": "python3"
  },
  "language_info": {
   "codemirror_mode": {
    "name": "ipython",
    "version": 3
   },
   "file_extension": ".py",
   "mimetype": "text/x-python",
   "name": "python",
   "nbconvert_exporter": "python",
   "pygments_lexer": "ipython3",
   "version": "3.8.8"
  }
 },
 "nbformat": 4,
 "nbformat_minor": 5
}
